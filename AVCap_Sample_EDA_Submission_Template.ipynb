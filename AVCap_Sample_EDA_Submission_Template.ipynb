{
  "nbformat": 4,
  "nbformat_minor": 0,
  "metadata": {
    "colab": {
      "private_outputs": true,
      "provenance": [],
      "collapsed_sections": [
        "vncDsAP0Gaoa",
        "FJNUwmbgGyua",
        "w6K7xa23Elo4",
        "yQaldy8SH6Dl",
        "MSa1f5Uengrz",
        "8xiLFr84QlYn",
        "t27r6nlMphqO",
        "r2jJGEOYphqO"
      ],
      "include_colab_link": true
    },
    "kernelspec": {
      "name": "python3",
      "display_name": "Python 3"
    },
    "language_info": {
      "name": "python"
    }
  },
  "cells": [
    {
      "cell_type": "markdown",
      "metadata": {
        "id": "view-in-github",
        "colab_type": "text"
      },
      "source": [
        "<a href=\"https://colab.research.google.com/github/ArundhatiV/HOTEL-BOOKING-ANALYSIS/blob/main/AVCap_Sample_EDA_Submission_Template.ipynb\" target=\"_parent\"><img src=\"https://colab.research.google.com/assets/colab-badge.svg\" alt=\"Open In Colab\"/></a>"
      ]
    },
    {
      "cell_type": "markdown",
      "source": [
        "# **Project Name**    - HOTEL BOOKING ANALYSIS\n",
        "\n"
      ],
      "metadata": {
        "id": "vncDsAP0Gaoa"
      }
    },
    {
      "cell_type": "markdown",
      "source": [
        "##### **Project Type**    - EDA\n",
        "##### **Contribution**    - Individual\n",
        "##### **Team Member 1 -**  ARUNDHATI VARUDE"
      ],
      "metadata": {
        "id": "beRrZCGUAJYm"
      }
    },
    {
      "cell_type": "markdown",
      "source": [
        "# **Project Summary -**"
      ],
      "metadata": {
        "id": "FJNUwmbgGyua"
      }
    },
    {
      "cell_type": "markdown",
      "source": [
        "### **Hotel bookings data analysis**\n",
        "\n",
        "  This project contains the real world data record of hotel bookings of a city and a resort hotel containing details like bookings, cancellations, guest details etc. from 2015 to 2017. Main aim of the project is to understand and visualize dataset from hotel and customer point of view i.e.\n",
        "      \n",
        "-**reasons for booking cancellations across various parameters**\n",
        "\n",
        "-**best time to book hotel**\n",
        "\n",
        "-**peak season**\n",
        "\n",
        "and **give suggestions to reduce these cancellations and increase revenue of hotels**."
      ],
      "metadata": {
        "id": "CG69TQetQ5dI"
      }
    },
    {
      "cell_type": "markdown",
      "source": [
        "# **GitHub Link -**"
      ],
      "metadata": {
        "id": "w6K7xa23Elo4"
      }
    },
    {
      "cell_type": "markdown",
      "source": [
        "Provide your GitHub Link here."
      ],
      "metadata": {
        "id": "h1o69JH3Eqqn"
      }
    },
    {
      "cell_type": "markdown",
      "source": [
        "# **Problem Statement**\n"
      ],
      "metadata": {
        "id": "yQaldy8SH6Dl"
      }
    },
    {
      "cell_type": "markdown",
      "source": [
        "### <b> Have you ever wondered when the best time of year to book a hotel room is? Or the optimal length of stay in order to get the best daily rate? What if you wanted to predict whether or not a hotel was likely to receive a disproportionately high number of special requests? This hotel booking dataset can help you explore those questions!\n",
        "\n",
        "### <b>This data set contains booking information for a city hotel and a resort hotel, and includes information such as when the booking was made, length of stay, the number of adults, children, and/or babies, and the number of available parking spaces, among other things. \n",
        "\n",
        "### <b> Explore and analyze the data to discover important factors that govern the bookings. </b>\n"
      ],
      "metadata": {
        "id": "DpeJGUA3kjGy"
      }
    },
    {
      "cell_type": "markdown",
      "source": [
        "# **Define Your Business Objective?**"
      ],
      "metadata": {
        "id": "PH-0ReGfmX4f"
      }
    },
    {
      "cell_type": "markdown",
      "source": [
        "\n",
        "### This project contains the real world data record of hotel bookings of a city and a resort hotel containing details like bookings, cancellations, guest details etc. from 2015 to 2017. Main aim of the project is to understand and visualize dataset from hotel and customer point of view i.e.\n",
        "\n",
        "**-reasons for booking cancellations across various parameters**\n",
        "\n",
        "**-best time to book hotel**\n",
        "\n",
        "**-peak season**\n",
        "\n",
        "***and give suggestions to reduce these cancellations and increase revenue of hotels. ***\n",
        "\n",
        "\n",
        "###  Explore and analyze the data to discover important factors that govern the bookings. \n"
      ],
      "metadata": {
        "id": "PhDvGCAqmjP1"
      }
    },
    {
      "cell_type": "markdown",
      "source": [
        "# ***Let's Begin !***"
      ],
      "metadata": {
        "id": "O_i_v8NEhb9l"
      }
    },
    {
      "cell_type": "markdown",
      "source": [
        "## ***1. Know Your Data***"
      ],
      "metadata": {
        "id": "HhfV-JJviCcP"
      }
    },
    {
      "cell_type": "markdown",
      "source": [
        "### Import Libraries"
      ],
      "metadata": {
        "id": "Y3lxredqlCYt"
      }
    },
    {
      "cell_type": "code",
      "source": [
        "# Import Libraries\n",
        "# Importing all import python libraries\n",
        "import numpy as np\n",
        "import pandas as pd\n",
        "import matplotlib\n",
        "import matplotlib.pyplot as plt\n",
        "import seaborn as sns\n",
        "import folium\n",
        "import plotly.express as px\n",
        "%matplotlib inline"
      ],
      "metadata": {
        "id": "M8Vqi-pPk-HR"
      },
      "execution_count": null,
      "outputs": []
    },
    {
      "cell_type": "markdown",
      "source": [
        "### Dataset Loading"
      ],
      "metadata": {
        "id": "3RnN4peoiCZX"
      }
    },
    {
      "cell_type": "code",
      "source": [
        "# Load Dataset\n",
        "from google.colab import drive                    # Mounting drive\n",
        "drive.mount('/content/drive')"
      ],
      "metadata": {
        "id": "4CkvbW_SlZ_R"
      },
      "execution_count": null,
      "outputs": []
    },
    {
      "cell_type": "markdown",
      "source": [
        "### Dataset First View"
      ],
      "metadata": {
        "id": "x71ZqKXriCWQ"
      }
    },
    {
      "cell_type": "code",
      "source": [
        "# Dataset First Look\n",
        "hotel_df = pd.read_csv(\"/content/drive/MyDrive/Hotel Bookings.csv\")           # Reading the data file\n",
        "hotel_df.head()                                                               # Taking a look to data"
      ],
      "metadata": {
        "id": "LWNFOSvLl09H"
      },
      "execution_count": null,
      "outputs": []
    },
    {
      "cell_type": "markdown",
      "source": [
        "### Dataset Rows & Columns count"
      ],
      "metadata": {
        "id": "7hBIi_osiCS2"
      }
    },
    {
      "cell_type": "code",
      "source": [
        "# Dataset Rows & Columns count\n",
        "hotel_df.shape"
      ],
      "metadata": {
        "id": "Kllu7SJgmLij"
      },
      "execution_count": null,
      "outputs": []
    },
    {
      "cell_type": "markdown",
      "source": [
        "### Dataset Information"
      ],
      "metadata": {
        "id": "JlHwYmJAmNHm"
      }
    },
    {
      "cell_type": "code",
      "source": [
        "# Dataset Info\n",
        "hotel_df.info()"
      ],
      "metadata": {
        "id": "e9hRXRi6meOf"
      },
      "execution_count": null,
      "outputs": []
    },
    {
      "cell_type": "code",
      "source": [
        "hotel_df.describe()"
      ],
      "metadata": {
        "id": "hD879Y1xc7Lx"
      },
      "execution_count": null,
      "outputs": []
    },
    {
      "cell_type": "code",
      "source": [
        "# Creating a copy of dataframe\n",
        "\n",
        "df = hotel_df.copy()"
      ],
      "metadata": {
        "id": "jEoUjXTdOMGF"
      },
      "execution_count": null,
      "outputs": []
    },
    {
      "cell_type": "markdown",
      "source": [
        "### Check Unique Values for each variable."
      ],
      "metadata": {
        "id": "u3PMJOP6ngxN"
      }
    },
    {
      "cell_type": "markdown",
      "source": [
        "First of all we will try to understand the meaning of all columns of the dataframe. \\\n",
        "For this we will see the unique values attained by each column whose meaning we are unable to understand."
      ],
      "metadata": {
        "id": "LubfyxxOOrYj"
      }
    },
    {
      "cell_type": "code",
      "source": [
        "df['hotel'].unique()"
      ],
      "metadata": {
        "id": "eDiETTaMOTJK"
      },
      "execution_count": null,
      "outputs": []
    },
    {
      "cell_type": "code",
      "metadata": {
        "id": "AcPacan8HZyS"
      },
      "source": [
        "df['is_canceled'].unique()"
      ],
      "execution_count": null,
      "outputs": []
    },
    {
      "cell_type": "code",
      "metadata": {
        "id": "OjJV2_5bICDE"
      },
      "source": [
        "df['arrival_date_year'].unique()"
      ],
      "execution_count": null,
      "outputs": []
    },
    {
      "cell_type": "code",
      "metadata": {
        "id": "Wa5MyotIQ0sC"
      },
      "source": [
        "df['meal'].unique()"
      ],
      "execution_count": null,
      "outputs": []
    },
    {
      "cell_type": "code",
      "metadata": {
        "id": "D9jkA87vVIwi"
      },
      "source": [
        "df['market_segment'].unique()"
      ],
      "execution_count": null,
      "outputs": []
    },
    {
      "cell_type": "code",
      "source": [
        "df['distribution_channel'].unique()"
      ],
      "metadata": {
        "id": "iJG9GATYRs-6"
      },
      "execution_count": null,
      "outputs": []
    },
    {
      "cell_type": "code",
      "source": [
        "df['children'].unique()    # This column has 0 as well as null values"
      ],
      "metadata": {
        "id": "gxKtKxKUR27j"
      },
      "execution_count": null,
      "outputs": []
    },
    {
      "cell_type": "markdown",
      "source": [
        "## ***2. Understanding Your Variables***"
      ],
      "metadata": {
        "id": "nA9Y7ga8ng1Z"
      }
    },
    {
      "cell_type": "markdown",
      "source": [
        "### What did you know about your dataset?"
      ],
      "metadata": {
        "id": "H0kj-8xxnORC"
      }
    },
    {
      "cell_type": "markdown",
      "source": [
        "Our data has shape of 119390 rows,32 columns.\n",
        "We see that there are 32 columns in the dataframe and some columns like 'children', 'company', 'country' and 'agent' have null values."
      ],
      "metadata": {
        "id": "DJjM_NA4dmb5"
      }
    },
    {
      "cell_type": "markdown",
      "source": [
        "\n",
        "\n",
        " Variables  Description:\n",
        "\n",
        "1. **hotel** : *Hotel(Resort Hotel or City Hotel)* \n",
        "\n",
        "2. **is_canceled** : *Value indicating if the booking was canceled (1) or not (0)*\n",
        "\n",
        "3. **lead_time** :* Number of days that elapsed between the entering date of the booking into the PMS and the arrival date*\n",
        "\n",
        "4. **arrival_date_year** : *Year of arrival date*\n",
        "\n",
        "5. **arrival_date_month** : *Month of arrival date*\n",
        "\n",
        "6. **arrival_date_week_number** : *Week number of year for arrival date*\n",
        "\n",
        "7. **arrival_date_day_of_month** : *Day of arrival date*\n",
        "\n",
        "8. **stays_in_weekend_nights** : *Number of weekend nights (Saturday or Sunday) the guest stayed or booked to stay at the hotel*\n",
        "\n",
        "9. **stays_in_week_nights** : *Number of week nights (Monday to Friday) the guest stayed or booked to stay at the hotel*\n",
        "\n",
        "10. **adults** : *Number of adults*\n",
        "\n",
        "11. **children** : *Number of children*\n",
        "\n",
        "12. **babies** : *Number of babies*\n",
        "\n",
        "13. **meal** : *Type of meal booked. Categories are presented in standard hospitality meal packages:*\n",
        "\n",
        "14. **country** : *Country of origin.`*\n",
        "\n",
        "15. **market_segment** : *Market segment designation. In categories, the term “TA” means “Travel Agents” and “TO” means “Tour Operators”*\n",
        "\n",
        "16. **distribution_channel** : *Booking distribution channel. The term “TA” means “Travel Agents” and “TO” means “Tour Operators”*\n",
        "\n",
        "17. **is_repeated_guest** : *Value indicating if the booking name was from a repeated guest (1) or not (0)*\n",
        "\n",
        "18. **previous_cancellations** : *Number of previous bookings that were cancelled by the customer prior to the current booking*\n",
        "\n",
        "19. **previous_bookings_not_canceled** : *Number of previous bookings not cancelled by the customer prior to the current booking*\n",
        "\n",
        "20. **reserved_room_type** : *Code of room type reserved. Code is presented instead of designation for anonymity reasons.*\n",
        "\n",
        "21. **assigned_room_type** : *Code for the type of room assigned to the booking.* \n",
        "\n",
        "22. **booking_changes** : *Number of changes/amendments made to the booking from the moment the booking was entered on the PMS until the moment of check-in or cancellation*\n",
        "\n",
        "23. **deposit_type** : *Indication on if the customer made a deposit to guarantee the booking.*\n",
        "\n",
        "24. **agent** : *ID of the travel agency that made the booking*\n",
        "\n",
        "25. **company** : *ID of the company/entity that made the booking or responsible for paying the booking.* \n",
        "\n",
        "26. **days_in_waiting_list** : *Number of days the booking was in the waiting list before it was confirmed to the customer*\n",
        "\n",
        "27. **customer_type** : *Type of booking, assuming one of four categories*\n",
        "\n",
        "\n",
        "28. **adr** : *Average Daily Rate as defined by dividing the sum of all lodging transactions by the total number of staying nights*\n",
        "\n",
        "29. **required_car_parking_spaces** : *Number of car parking spaces required by the customer*\n",
        "\n",
        "30. **total_of_special_requests** :* Number of special requests made by the customer (e.g. twin bed or high floor)*\n",
        "\n",
        "31. **reservation_status** : *Reservation last status, assuming one of three categories*\n",
        "* Canceled – booking was canceled by the customer\n",
        "* Check-Out – customer has checked in but already departed\n",
        "* No-Show – customer did not check-in and did inform the hotel of the reason why\n",
        "\n",
        "32. **reservation_status_date** : *Date at which the last status was set. This variable can be used in conjunction with the ReservationStatus to understand when was the booking canceled or when did the customer checked-out of the hotel*\n"
      ],
      "metadata": {
        "id": "gfoNAAC-nUe_"
      }
    },
    {
      "cell_type": "markdown",
      "source": [
        "## **3.Data Wrangling**"
      ],
      "metadata": {
        "id": "dauF4eBmngu3"
      }
    },
    {
      "cell_type": "markdown",
      "source": [
        "### What all manipulations have you done and insights you found?"
      ],
      "metadata": {
        "id": "MSa1f5Uengrz"
      }
    },
    {
      "cell_type": "markdown",
      "source": [
        "### <b> Cleaning data </b> \n",
        "\n",
        "Cleaning data is crucial step before EDA as it will remove the ambigous data that can affect the outcome of EDA.\n",
        "\n",
        "While cleaning data we will perform following steps: \\\n",
        "1) Remove duplicate rows  \\\n",
        "2) Handling missing values.  \\\n",
        "3) Convert columns to appropriate datatypes.  \\\n",
        "4) Adding important columns"
      ],
      "metadata": {
        "id": "FkqoRiStgHB9"
      }
    },
    {
      "cell_type": "markdown",
      "source": [
        "####  <b> Step 1: Removing duplicate rows if any </b>"
      ],
      "metadata": {
        "id": "35m5QtbWiB9F"
      }
    },
    {
      "cell_type": "code",
      "source": [
        "# Dataset Duplicate Value Count\n",
        "df[df.duplicated()].shape   "
      ],
      "metadata": {
        "id": "1sLdpKYkmox0"
      },
      "execution_count": null,
      "outputs": []
    },
    {
      "cell_type": "code",
      "source": [
        "# Dropping duplicate values\n",
        "df.drop_duplicates(inplace = True)"
      ],
      "metadata": {
        "id": "5jotAR_khrfJ"
      },
      "execution_count": null,
      "outputs": []
    },
    {
      "cell_type": "code",
      "source": [
        "df.shape"
      ],
      "metadata": {
        "id": "PhJFs5TPhs63"
      },
      "execution_count": null,
      "outputs": []
    },
    {
      "cell_type": "markdown",
      "source": [
        "### <b> Step2: Handling missing values. </b>"
      ],
      "metadata": {
        "id": "JK1JmbupWL79"
      }
    },
    {
      "cell_type": "code",
      "source": [
        "# Columns having missing values.\n",
        "df.isnull().sum().sort_values(ascending = False)[:6]"
      ],
      "metadata": {
        "id": "NRe5UnFJWSK2"
      },
      "execution_count": null,
      "outputs": []
    },
    {
      "cell_type": "markdown",
      "source": [
        "Since, company and agent columns have comany number and agent numbers as data. There may be some cases when customer didnt booked hotel via any agent or via any company. So in that case values can be null under these columns. \\\n",
        "We will replace null values by 0 in these columns "
      ],
      "metadata": {
        "id": "T-4uQUhlXxVU"
      }
    },
    {
      "cell_type": "code",
      "source": [
        "# Visulaizing null values through heatmap.\n",
        "plt.figure(figsize=(25, 10))\n",
        "sns.heatmap(df.isnull(), cbar=False, yticklabels=False,cmap='viridis')\n",
        "plt.xlabel(\"Name Of Columns\")\n",
        "plt.title(\"Places of missing values in column\")"
      ],
      "metadata": {
        "id": "7HM2kqSLJBrZ"
      },
      "execution_count": null,
      "outputs": []
    },
    {
      "cell_type": "code",
      "source": [
        "df[['company','agent']] = df[['company','agent']].fillna(0)"
      ],
      "metadata": {
        "id": "8gmRC16gWSH2"
      },
      "execution_count": null,
      "outputs": []
    },
    {
      "cell_type": "code",
      "source": [
        "df['children'].unique()"
      ],
      "metadata": {
        "id": "CXF7mztlbmGr"
      },
      "execution_count": null,
      "outputs": []
    },
    {
      "cell_type": "markdown",
      "source": [
        "This column 'children' has 0 as value which means 0 children were present in group of customers who made that transaction. \\\n",
        "So, 'nan' values are the missing values due to error of recording data. \\\n",
        " \\\n",
        "We will replace the null values under this column with mean value of children."
      ],
      "metadata": {
        "id": "bYeTgLGAai7N"
      }
    },
    {
      "cell_type": "code",
      "source": [
        "df['children'].fillna(df['children'].mean(), inplace = True)"
      ],
      "metadata": {
        "id": "UCH87STXWSFx"
      },
      "execution_count": null,
      "outputs": []
    },
    {
      "cell_type": "markdown",
      "source": [
        "Next column with missing value is 'country'.\n",
        "This column represents the country of origin of customer. \\\n",
        "Since, this column has datatype of string. We will replace the missing value with the mode of 'country' column."
      ],
      "metadata": {
        "id": "VKF1hhpMcYsZ"
      }
    },
    {
      "cell_type": "code",
      "source": [
        "df['country'].fillna('others', inplace = True)"
      ],
      "metadata": {
        "id": "kYKKRfvUWSDf"
      },
      "execution_count": null,
      "outputs": []
    },
    {
      "cell_type": "code",
      "source": [
        "# Checking if all null values are removed\n",
        "df.isnull().sum().sort_values(ascending = False)[:6]"
      ],
      "metadata": {
        "id": "mVcsA88bc2PU"
      },
      "execution_count": null,
      "outputs": []
    },
    {
      "cell_type": "markdown",
      "source": [
        "There are some rows with total number of adults, children or babies equal to zero. So we will remove such rows."
      ],
      "metadata": {
        "id": "P7aQSKz4Bhe1"
      }
    },
    {
      "cell_type": "code",
      "source": [
        "df[df['adults']+df['babies']+df['children'] == 0].shape"
      ],
      "metadata": {
        "id": "zStRIFi8BDKE"
      },
      "execution_count": null,
      "outputs": []
    },
    {
      "cell_type": "code",
      "source": [
        "df.drop(df[df['adults']+df['babies']+df['children'] == 0].index, inplace = True)"
      ],
      "metadata": {
        "id": "Fagd-ZT8Bs9i"
      },
      "execution_count": null,
      "outputs": []
    },
    {
      "cell_type": "markdown",
      "source": [
        "### <b> Step 3: Converting columns to appropriate datatypes. </b>"
      ],
      "metadata": {
        "id": "yhoku2ytUsQ8"
      }
    },
    {
      "cell_type": "code",
      "source": [
        "# Converting datatype of columns 'children', 'company' and 'agent' from float to int.\n",
        "df[['children', 'company', 'agent']] = df[['children', 'company', 'agent']].astype('int64')\n"
      ],
      "metadata": {
        "id": "0sVsZRZhUnab"
      },
      "execution_count": null,
      "outputs": []
    },
    {
      "cell_type": "code",
      "source": [
        "# changing datatype of column 'reservation_status_date' to data_type.\n",
        "df['reservation_status_date'] = pd.to_datetime(df['reservation_status_date'], format = '%Y-%m-%d')"
      ],
      "metadata": {
        "id": "wFjq_FVXV6Br"
      },
      "execution_count": null,
      "outputs": []
    },
    {
      "cell_type": "markdown",
      "source": [
        "### <b> Step 4: Adding important columns. </b>"
      ],
      "metadata": {
        "id": "7oFW8dNw0Z6b"
      }
    },
    {
      "cell_type": "code",
      "source": [
        "# Adding total staying days in hotels\n",
        "df['total_stay'] = df['stays_in_weekend_nights']+df['stays_in_week_nights']\n",
        "\n",
        "# Adding total people num as column, i.e. total people num = num of adults + children + babies\n",
        "df['total_people'] = df['adults']+df['children']+df['babies']"
      ],
      "metadata": {
        "id": "GivHaoyO0g8s"
      },
      "execution_count": null,
      "outputs": []
    },
    {
      "cell_type": "code",
      "source": [
        "df.columns"
      ],
      "metadata": {
        "id": "58JnDanx67HQ"
      },
      "execution_count": null,
      "outputs": []
    },
    {
      "cell_type": "code",
      "source": [
        "df.shape"
      ],
      "metadata": {
        "id": "9Yoxklp-J2Ir"
      },
      "execution_count": null,
      "outputs": []
    },
    {
      "cell_type": "markdown",
      "source": [
        "We are adding this column so that we can analyse the stay length at hotels. "
      ],
      "metadata": {
        "id": "2uFslrxDBLsK"
      }
    },
    {
      "cell_type": "markdown",
      "source": [
        "## **4. Data Vizualization, Storytelling & Experimenting with charts : Understand the relationships between variables. (Insights from data)**"
      ],
      "metadata": {
        "id": "GF8Ens_Soomf"
      }
    },
    {
      "cell_type": "markdown",
      "source": [
        "###   EDA (Exploratory Data Analysis)"
      ],
      "metadata": {
        "id": "8xiLFr84QlYn"
      }
    },
    {
      "cell_type": "markdown",
      "source": [
        "\n",
        "### **Univariate Analysis**\n"
      ],
      "metadata": {
        "id": "0wOQAZs5pc--"
      }
    },
    {
      "cell_type": "markdown",
      "source": [
        "#### **Chart -1) Which type of hotel is mostly prefered by the guests?**"
      ],
      "metadata": {
        "id": "zHf__pbaQ_TQ"
      }
    },
    {
      "cell_type": "code",
      "source": [
        "# Chart - 1 visualization code\n",
        "df['hotel'].value_counts().plot.pie(explode=[0.05, 0.05], autopct='%1.1f%%', shadow=True, figsize=(10,8),fontsize=20)   \n",
        "plt.title('Pie Chart for Most Preffered  Hotel')"
      ],
      "metadata": {
        "id": "7v_ESjsspbW7"
      },
      "execution_count": null,
      "outputs": []
    },
    {
      "cell_type": "markdown",
      "source": [
        "#### **Observation**\n",
        "#### City Hotel is most preffered hotel by guests. Thus city hotels has maximum bookings."
      ],
      "metadata": {
        "id": "C_j1G7yiqdRP"
      }
    },
    {
      "cell_type": "markdown",
      "source": [
        "#### **Chart - 2) Which Agent made the most bookings?**"
      ],
      "metadata": {
        "id": "KSlN3yHqYklG"
      }
    },
    {
      "cell_type": "code",
      "source": [
        "# return highest bookings made by agents\n",
        "highest_bookings= df.groupby(['agent'])['agent'].agg({'count'}).reset_index().rename(columns={'count': \"Most_Bookings\" }).sort_values(by='Most_Bookings',ascending=False)\n",
        "\n",
        " # as agent 0 was NAN value and we replaced it with 0 and indicates no bookings.so droping.\n",
        "highest_bookings.drop(highest_bookings[highest_bookings['agent']==0].index,inplace=True) \n",
        "\n",
        "# taking top 10 bookings made by agent\n",
        "top_ten_highest_bookings=highest_bookings[:10]\n",
        "\n",
        "top_ten_highest_bookings"
      ],
      "metadata": {
        "id": "R4YgtaqtYklH"
      },
      "execution_count": null,
      "outputs": []
    },
    {
      "cell_type": "code",
      "source": [
        "#Visualizaing the graph\n",
        "\n",
        "plt.figure(figsize=(18,8))\n",
        "sns.barplot(x=top_ten_highest_bookings['agent'],y=top_ten_highest_bookings['Most_Bookings'],order=top_ten_highest_bookings['agent'])\n",
        "plt.xlabel('Agent No')\n",
        "plt.ylabel('Number of Bookings')\n",
        "plt.title(\"Most Bookings Made by the agent\")"
      ],
      "metadata": {
        "id": "z36XRjupVH6r"
      },
      "execution_count": null,
      "outputs": []
    },
    {
      "cell_type": "markdown",
      "source": [
        "#### **Observation**\n",
        "#### Agent ID no: 9 made most of the bookings"
      ],
      "metadata": {
        "id": "PSx9atu2YklI"
      }
    },
    {
      "cell_type": "markdown",
      "source": [
        "#### **Chart - 3)What is the pecentage of cancellation?**"
      ],
      "metadata": {
        "id": "EM7whBJCYoAo"
      }
    },
    {
      "cell_type": "code",
      "source": [
        "# Chart - 3 visualization code\n",
        "df['is_canceled'].value_counts().plot.pie(explode=[0.05, 0.05], autopct='%1.1f%%', shadow=True, figsize=(10,8),fontsize=20)\n",
        "plt.title(\"Cancellation and non Cancellation\")"
      ],
      "metadata": {
        "id": "t6GMdE67YoAp"
      },
      "execution_count": null,
      "outputs": []
    },
    {
      "cell_type": "markdown",
      "source": [
        "#### **Observation :**\n",
        "#### 0= not cancelled\n",
        "#### 1= cancelled\n",
        "\n",
        "#### 27.5 % of the bookings were cancelled."
      ],
      "metadata": {
        "id": "4jstXR6OYoAp"
      }
    },
    {
      "cell_type": "markdown",
      "source": [
        "\n",
        "#### **Chart - 4) What is the Percentage of repeated guests? ***"
      ],
      "metadata": {
        "id": "4Of9eVA-YrdM"
      }
    },
    {
      "cell_type": "code",
      "source": [
        "# Chart - 4 visualization code\n",
        "df['is_repeated_guest'].value_counts().plot.pie(explode=(0.05,0.05),autopct='%1.1f%%',shadow=True,figsize=(12,8),fontsize=20)\n",
        "\n",
        "plt.title(\" Percentgae (%) of repeated guests\")"
      ],
      "metadata": {
        "id": "irlUoxc8YrdO"
      },
      "execution_count": null,
      "outputs": []
    },
    {
      "cell_type": "markdown",
      "source": [
        "#### **Observation:**\n",
        "#### Repeated guests are very few which only 3.9 %.\n",
        "####In order to retained the guests management should take feedbacks from guests and try to imporve the services."
      ],
      "metadata": {
        "id": "jLNxxz7MYrdP"
      }
    },
    {
      "cell_type": "markdown",
      "source": [
        "#### **Chart - 5) What is the percentage distribution of \"Customer Type\"?**"
      ],
      "metadata": {
        "id": "bamQiAODYuh1"
      }
    },
    {
      "cell_type": "code",
      "source": [
        "# Chart - 5 visualization code\n",
        "df['customer_type'].value_counts().plot.pie(explode=[0.05]*4,shadow=True,autopct='%1.1f%%',figsize=(12,8),fontsize=15,labels=None)\n",
        "\n",
        "\n",
        "labels=df['customer_type'].value_counts().index.tolist()\n",
        "plt.title('% Distribution of Customer Type')\n",
        "plt.legend(bbox_to_anchor=(0.85, 1), loc='upper left', labels=labels)"
      ],
      "metadata": {
        "id": "TIJwrbroYuh3"
      },
      "execution_count": null,
      "outputs": []
    },
    {
      "cell_type": "markdown",
      "source": [
        "\n",
        "**1. Contract** \n",
        ">when the booking has an allotment or other type of contract associated to it\n",
        "\n",
        "**2. Group**\n",
        "> when the booking is associated to a group\n",
        "\n",
        "**3. Transient**\n",
        ">when the booking is not part of a group or contract, and is not associated to other transient booking\n",
        "\n",
        "**4. Transient-party**\n",
        ">when the booking is transient, but is associated to at least other transient booking\n",
        "\n",
        "#### **Observation:**\n",
        "#### Transient customer type is more whcih is 82.4 %. percentage of  Booking associated by the Group is vey low."
      ],
      "metadata": {
        "id": "uyqkiB8YYuh3"
      }
    },
    {
      "cell_type": "markdown",
      "source": [
        "#### **Chart-6)What is the percentage distribution of required_car_parking_spaces?**"
      ],
      "metadata": {
        "id": "OH-pJp9IphqM"
      }
    },
    {
      "cell_type": "code",
      "source": [
        "# Chart - 6 visualization code\n",
        "df['required_car_parking_spaces'].value_counts().plot.pie(explode=[0.05]*5, autopct='%1.1f%%',shadow=False,figsize=(12,8),fontsize=15,labels=None)\n",
        "\n",
        "labels=df['required_car_parking_spaces'].value_counts().index\n",
        "plt.title('% Distribution of required car parking spaces')\n",
        "plt.legend(bbox_to_anchor=(0.85, 1), loc='upper left', labels=labels)"
      ],
      "metadata": {
        "id": "kuRf4wtuphqN"
      },
      "execution_count": null,
      "outputs": []
    },
    {
      "cell_type": "markdown",
      "source": [
        "#### **Observation**\n",
        "#### 91.6 % guests did not required the parking space. only 8.3 % guests required only 1 parking space."
      ],
      "metadata": {
        "id": "VECbqPI7phqN"
      }
    },
    {
      "cell_type": "markdown",
      "source": [
        "####  **Chart - 7)What is the percentage of booking changes made by the customer.?**"
      ],
      "metadata": {
        "id": "PIIx-8_IphqN"
      }
    },
    {
      "cell_type": "code",
      "source": [
        "# Chart - 7 visualization code\n",
        "booking_changes_df=df['booking_changes'].value_counts().reset_index().rename(columns={'index': \"number_booking_changes\",'booking_changes':'Counts'})\n",
        "\n",
        "plt.figure(figsize=(12,8))\n",
        "sns.barplot(x=booking_changes_df['number_booking_changes'],y=booking_changes_df['Counts']*100/df.shape[0])\n",
        "plt.title(\"% of Booking change\")\n",
        "plt.xlabel('Number of booking changes')\n",
        "plt.ylabel('Percentage(%)')"
      ],
      "metadata": {
        "id": "lqAIGUfyphqO"
      },
      "execution_count": null,
      "outputs": []
    },
    {
      "cell_type": "markdown",
      "source": [
        "##### 1. Why did you pick the specific chart?"
      ],
      "metadata": {
        "id": "t27r6nlMphqO"
      }
    },
    {
      "cell_type": "markdown",
      "source": [
        "Answer Here."
      ],
      "metadata": {
        "id": "iv6ro40sphqO"
      }
    },
    {
      "cell_type": "markdown",
      "source": [
        "##### 2. What is/are the insight(s) found from the chart?"
      ],
      "metadata": {
        "id": "r2jJGEOYphqO"
      }
    },
    {
      "cell_type": "markdown",
      "source": [
        "#### 0= 0 changes made in the booking\n",
        "#### 1= 1 changes made in the booking\n",
        "#### 2= 2 changes made in the booking\n",
        "\n",
        "#### **Observation**\n",
        "#### Almost 82% of the bookings were not changed by guests.\n"
      ],
      "metadata": {
        "id": "Po6ZPi4hphqO"
      }
    },
    {
      "cell_type": "markdown",
      "source": [
        "#### **Chart - 8) From which country the most guests are coming?**"
      ],
      "metadata": {
        "id": "BZR9WyysphqO"
      }
    },
    {
      "cell_type": "code",
      "source": [
        "# Counting the guests from various countries.\n",
        "country_df=df['country'].value_counts().reset_index().rename(columns={'index': 'country','country': 'count of guests'})[:10]\n",
        "# country_df1=df1['country'].value_counts().reset_index().rename(columns={'index': 'country','country': 'count of guests'})\n",
        "\n",
        "# Visualizing by  plotting the graph\n",
        "plt.figure(figsize=(20,8))\n",
        "sns.barplot(x=country_df['country'],y=country_df['count of guests'])\n",
        "plt.xlabel('Country')\n",
        "plt.ylabel('Number of guests',fontsize=12)\n",
        "plt.title(\"Number of guests from diffrent Countries\")"
      ],
      "metadata": {
        "id": "ilzRTC72c1xC"
      },
      "execution_count": null,
      "outputs": []
    },
    {
      "cell_type": "code",
      "source": [
        "#importing the folium library\n",
        "import folium                                # searched on google \n",
        "import plotly.express as px"
      ],
      "metadata": {
        "id": "dMImIv56deEQ"
      },
      "execution_count": null,
      "outputs": []
    },
    {
      "cell_type": "code",
      "source": [
        "basemap = folium.Map()\n",
        "guests_map = px.choropleth(country_df, locations = country_df['country'],color = country_df['count of guests'], hover_name = country_df['country'])\n",
        "guests_map.show()"
      ],
      "metadata": {
        "id": "7Fu6XjMudjiH"
      },
      "execution_count": null,
      "outputs": []
    },
    {
      "cell_type": "markdown",
      "source": [
        "#### **Observation**\n",
        "#### Most of the guests are coming from portugal i.e more 25000 guests are from portugal\n",
        "abbreevations for countries-\n",
        "\n",
        "\n",
        "\n",
        "1.   PRT- Portugal\n",
        "2.   GBR- United Kingdom\n",
        "3.   FRA- France\n",
        "4.   ESP- Spain\n",
        "5.   DEU - Germany\n",
        "6.   ITA -Itlay\n",
        "7.   IRL - Ireland\n",
        "8.   BEL -Belgium\n",
        "9.   BRA -Brazil\n",
        "10.  NLD-Netherlands\n",
        "\n",
        "\n",
        "\n"
      ],
      "metadata": {
        "id": "llfMvOV0dqz2"
      }
    },
    {
      "cell_type": "markdown",
      "source": [
        "#### **11) Which is the most preferred room type by the customers?**"
      ],
      "metadata": {
        "id": "Ya4t5pUkdvL4"
      }
    },
    {
      "cell_type": "code",
      "source": [
        "#set plotsize\n",
        "plt.figure(figsize=(18,8))\n",
        "\n",
        "#plotting \n",
        "sns.countplot(x=df['assigned_room_type'],order=df['assigned_room_type'].value_counts().index)\n",
        "#  set xlabel for the plot\n",
        "plt.xlabel('Room Type')\n",
        "# set y label for the plot\n",
        "plt.ylabel('Count of Room Type')\n",
        "#set title for the plot\n",
        "plt.title(\"Most preferred Room type\")"
      ],
      "metadata": {
        "id": "84nQnA31dmV1"
      },
      "execution_count": null,
      "outputs": []
    },
    {
      "cell_type": "markdown",
      "source": [
        "#### **Observation**\n",
        "####So the most preferred Room type is \"A\"."
      ],
      "metadata": {
        "id": "6xyzGmICd62S"
      }
    },
    {
      "cell_type": "markdown",
      "source": [
        "#### **8)What is Percentage distribution of Deposite type ?**"
      ],
      "metadata": {
        "id": "nB40x_6Zcu2R"
      }
    },
    {
      "cell_type": "code",
      "source": [
        "df['deposit_type'].value_counts().plot.pie(explode=(0.5,0.5,0.05),autopct='%1.1f%%',shadow=False,figsize=(14,8),fontsize=20,labels=None)\n",
        "plt.title(\"% Distribution of deposit type\")\n",
        "labels=df['deposit_type'].value_counts().index.tolist()\n",
        "plt.legend(bbox_to_anchor=(0.85, 1), loc='upper left', labels=labels)"
      ],
      "metadata": {
        "id": "wWt5y6HcZQAr"
      },
      "execution_count": null,
      "outputs": []
    },
    {
      "cell_type": "markdown",
      "source": [
        "#### **Observation**\n",
        "#### 98.7 % of the guests prefer \"No deposit\" type of deposit."
      ],
      "metadata": {
        "id": "eNVuc0nRdDPp"
      }
    },
    {
      "cell_type": "markdown",
      "source": [
        "#### **9) Which type of food is mostly preferred by the guests?**"
      ],
      "metadata": {
        "id": "PGUS7PH5dIIX"
      }
    },
    {
      "cell_type": "code",
      "source": [
        "# df1['meal'].value_counts().plot.pie(explode=[0.05, 0.05,0.05,0.05,0.05], autopct='%1.1f%%', shadow=True, figsize=(20,15),fontsize=20)\n",
        "plt.figure(figsize=(18,8))\n",
        "sns.countplot(x=df['meal'])\n",
        "plt.xlabel('Meal Type')\n",
        "plt.ylabel('Count')\n",
        "plt.title(\"Preferred Meal Type\")\n"
      ],
      "metadata": {
        "id": "lB21TM0IdQUp"
      },
      "execution_count": null,
      "outputs": []
    },
    {
      "cell_type": "markdown",
      "source": [
        "Types of meal in hotels:\n",
        "* BB - (Bed and Breakfast)\n",
        "* HB- (Half Board)\n",
        "* FB- (Full Board)\n",
        "* SC- (Self Catering)\n",
        "#### **Observation**\n",
        "#### * So the most preferred meal type by the guests is BB( Bed and Breakfast) \n",
        "#### * HB- (Half Board) and SC- (Self Catering) are equally preferred.\n"
      ],
      "metadata": {
        "id": "hKCDey2CdV7i"
      }
    },
    {
      "cell_type": "markdown",
      "source": [
        "#### **12)In which month most of the bookings happened?**"
      ],
      "metadata": {
        "id": "R_dDgdkEd-oH"
      }
    },
    {
      "cell_type": "code",
      "source": [
        "# groupby arrival_date_month and taking the hotel count\n",
        "bookings_by_months_df=df.groupby(['arrival_date_month'])['hotel'].count().reset_index().rename(columns={'hotel':\"Counts\"})\n",
        "# Create list of months in order\n",
        "months = ['January', 'February', 'March', 'April', 'May', 'June', 'July', 'August', 'September', 'October', 'November', 'December']\n",
        "# creating df which will map the order of above months list without changing its values.\n",
        "bookings_by_months_df['arrival_date_month']=pd.Categorical(bookings_by_months_df['arrival_date_month'],categories=months,ordered=True)\n",
        "# sorting by arrival_date_month\n",
        "bookings_by_months_df=bookings_by_months_df.sort_values('arrival_date_month')\n",
        "\n",
        "bookings_by_months_df"
      ],
      "metadata": {
        "id": "kspZi6Xod2rc"
      },
      "execution_count": null,
      "outputs": []
    },
    {
      "cell_type": "code",
      "source": [
        "# set plot size\n",
        "plt.figure(figsize=(20,8))\n",
        "\n",
        "#pltting lineplot on x- months & y- booking counts\n",
        "sns.lineplot(x=bookings_by_months_df['arrival_date_month'],y=bookings_by_months_df['Counts'])\n",
        "\n",
        "# set title for the plot\n",
        "plt.title('Number of bookings across each month')\n",
        "#set x label\n",
        "plt.xlabel('Month')\n",
        "#set y label\n",
        "plt.ylabel('Number of bookings')"
      ],
      "metadata": {
        "id": "OkXGMcOteBNf"
      },
      "execution_count": null,
      "outputs": []
    },
    {
      "cell_type": "markdown",
      "source": [
        " #### **Observation**\n",
        " July and August months had the most Bookings. Summer vaccation can be the reason for the bookings."
      ],
      "metadata": {
        "id": "w_LPLQffeKIU"
      }
    },
    {
      "cell_type": "markdown",
      "source": [
        "#### **13) Which Distribution channel is mostly used for hotel bookings?**"
      ],
      "metadata": {
        "id": "T6eoFqk7eVp5"
      }
    },
    {
      "cell_type": "code",
      "source": [
        "# Visualizsing the by pie chart.\n",
        "\n",
        "\n",
        "#Creating labels\n",
        "labels=df['distribution_channel'].value_counts().index.tolist()\n",
        "\n",
        "# creating new df of distribution channel\n",
        "distribution_channel_df=df['distribution_channel'].value_counts().reset_index().rename(columns={'index':\"distribution_channel\",'distribution_channel':'count'})\n",
        "\n",
        "#adding percentage columns to the distribution_channel_df\n",
        "distribution_channel_df['percentage']=round(distribution_channel_df['count']*100/df.shape[0],1)\n",
        "\n",
        "#Creating list of percentage\n",
        "sizes=distribution_channel_df['percentage'].values.tolist()\n",
        "\n",
        "#plotting the piw chart\n",
        "df['distribution_channel'].value_counts().plot.pie(explode=[0.05, 0.05,0.05,0.05,0.05], shadow=False, figsize=(15,8),fontsize=10,labels=None)   \n",
        "\n",
        "# setting legends with the percentage values\n",
        "labels = [f'{l}, {s}%' for l, s in zip(labels, sizes)]\n",
        "plt.legend(bbox_to_anchor=(0.85, 1), loc='upper left', labels=labels)\n",
        "plt.title(' Mostly Used Distribution Channel for Hotel Bookings ')"
      ],
      "metadata": {
        "id": "76Rgw4yGeHtK"
      },
      "execution_count": null,
      "outputs": []
    },
    {
      "cell_type": "markdown",
      "source": [
        "####**Observation**:\n",
        "####'TA/TO' is mostly(79.1%) used for booking hoetls."
      ],
      "metadata": {
        "id": "HpucvsvIelIH"
      }
    },
    {
      "cell_type": "markdown",
      "source": [
        "#### **14) Which year had the highest bookings?**"
      ],
      "metadata": {
        "id": "lDW1EIcbepJj"
      }
    },
    {
      "cell_type": "code",
      "source": [
        "# set plot size\n",
        "plt.figure(figsize=(12,8))\n",
        "\n",
        "#  plot with countplot\n",
        "sns.countplot(x=df['arrival_date_year'],hue=df['hotel'])\n",
        "plt.title(\"Year Wise bookings\")"
      ],
      "metadata": {
        "id": "uxcQ5HF5eYZI"
      },
      "execution_count": null,
      "outputs": []
    },
    {
      "cell_type": "markdown",
      "source": [
        "###  **Bivariate and Multivariate Analysis**"
      ],
      "metadata": {
        "id": "cFe4r_-ciFLW"
      }
    },
    {
      "cell_type": "code",
      "source": [
        "# group by hotel\n",
        "grup_by_hotel=df.groupby('hotel')"
      ],
      "metadata": {
        "id": "4q92ZFqEiR0R"
      },
      "execution_count": null,
      "outputs": []
    },
    {
      "cell_type": "markdown",
      "source": [
        "#### **1) Which Hotel type has  the highest ADR?**"
      ],
      "metadata": {
        "id": "Sf2CFG43iE7-"
      }
    },
    {
      "cell_type": "code",
      "source": [
        "#grouping by hotel adr\n",
        "highest_adr=grup_by_hotel['adr'].mean().reset_index()\n",
        "\n",
        "#set plot size\n",
        "plt.figure(figsize=(10,8))\n",
        "\n",
        "# set labels\n",
        "plt.xlabel('Hotel type')\n",
        "plt.ylabel('ADR')\n",
        "plt.title(\"Avg ADR of each Hotel type\")\n",
        "\n",
        "#plot the graph\n",
        "sns.barplot(x=highest_adr['hotel'],y=highest_adr['adr'])"
      ],
      "metadata": {
        "id": "HCjM7dcGkcEe"
      },
      "execution_count": null,
      "outputs": []
    },
    {
      "cell_type": "markdown",
      "source": [],
      "metadata": {
        "id": "nCzuvD_4mI5v"
      }
    },
    {
      "cell_type": "markdown",
      "source": [
        "#### **2) Which hotel type has the more lead time?**"
      ],
      "metadata": {
        "id": "y-gjoUQzgVmi"
      }
    },
    {
      "cell_type": "code",
      "source": [
        "#group by hotel and taking mean of lead time\n",
        "avg_lead_time=grup_by_hotel['lead_time'].mean().reset_index()\n",
        "\n",
        "#set plot size\n",
        "plt.figure(figsize=(10,8))\n",
        "\n",
        "# plot the bar plot\n",
        "sns.barplot(x=avg_lead_time['hotel'],y=avg_lead_time['lead_time'])\n",
        "# set lables\n",
        "plt.xlabel('Hotel type')\n",
        "plt.ylabel('Average Lead time')\n",
        "plt.title(\"Average Lead Time for each Hotel type\")\n"
      ],
      "metadata": {
        "id": "8FHz9s5kgUf5"
      },
      "execution_count": null,
      "outputs": []
    },
    {
      "cell_type": "markdown",
      "source": [
        "####**Observation**\n",
        "####Resort hotels has slightly  high avg lead time. That means customers plan their trips very early. "
      ],
      "metadata": {
        "id": "O0VROoFUgc-B"
      }
    },
    {
      "cell_type": "markdown",
      "source": [
        "#### **3) Which hotel has highest percentage of booking cancellation?**"
      ],
      "metadata": {
        "id": "3Ele5Gu_gxj0"
      }
    },
    {
      "cell_type": "code",
      "source": [
        "# booking canceled=1 \n",
        "# booking not canceled= 0\n",
        "\n",
        "# creating new DataFrame where bookings are cancelled.\n",
        "canceled_df=df[df['is_canceled']==1]\n",
        "\n",
        "# Grouping by hotel\n",
        "canceled_df=canceled_df.groupby('hotel').size().reset_index().rename(columns={0: \"no_of_cancelled_bookings\"})\n",
        "\n",
        "# adding 'total booking column for calculating the percentage.\n",
        "canceled_df['total_booikngs']=df.groupby('hotel').size().reset_index().rename(columns={0:\"total_bookings\"}).drop('hotel',axis=1)\n",
        "canceled_df\n",
        "\n",
        "#plotting the barchat\n",
        "plt.figure(figsize=(10,8))\n",
        "sns.barplot(x=canceled_df['hotel'],y=canceled_df['no_of_cancelled_bookings']*100/canceled_df['total_booikngs'])\n",
        "\n",
        "#set labels\n",
        "plt.xlabel('Hotel type')\n",
        "plt.ylabel('Percentage(%)')\n",
        "plt.title(\"Percentage of booking cancellation\")"
      ],
      "metadata": {
        "id": "Tl0M6EO0fcYK"
      },
      "execution_count": null,
      "outputs": []
    },
    {
      "cell_type": "markdown",
      "source": [
        "#### **4)Which hotel has longer waiting time?**"
      ],
      "metadata": {
        "id": "S7375nsBg6eJ"
      }
    },
    {
      "cell_type": "code",
      "source": [
        "#groupping by hoetl and takin mean of days in waiting list\n",
        "waiting_time_df=df.groupby('hotel')['days_in_waiting_list'].mean().reset_index()\n",
        "# waiting_time_df\n",
        "\n",
        "#set the plot size\n",
        "plt.figure(figsize=(10,8))\n",
        "\n",
        "# plot barchart\n",
        "sns.barplot(x=waiting_time_df['hotel'],y=waiting_time_df['days_in_waiting_list'])\n",
        "\n",
        "#set labels\n",
        "plt.xlabel('Hotel type')\n",
        "plt.ylabel('waiting time')\n",
        "plt.title(\"Waiting time for each hotel type\")"
      ],
      "metadata": {
        "id": "flZ5ukFTg2V0"
      },
      "execution_count": null,
      "outputs": []
    },
    {
      "cell_type": "markdown",
      "source": [
        "####**Observation**\n",
        "#### So the City Hotels has longer waiting period than the Resort Hotels. Thus we can say that City Hotels are much busier than the Resort Hotels"
      ],
      "metadata": {
        "id": "Lta8m-IzhGql"
      }
    },
    {
      "cell_type": "markdown",
      "source": [
        "#### **5) Which Hotels has the most repeated guests?**"
      ],
      "metadata": {
        "id": "MPfwnVCRhJp_"
      }
    },
    {
      "cell_type": "code",
      "source": [
        "# repeated guest=1\n",
        "#not repeated guest=0\n",
        "#groupby hotel\n",
        "repeated_guests_df=df[df['is_repeated_guest']==1].groupby('hotel').size().reset_index().rename(columns={0:'number_of_repated_guests'})\n",
        "\n",
        "\n",
        "\n",
        "#set plot size adn plot barplot\n",
        "plt.figure(figsize=(10,8))\n",
        "sns.barplot(x=repeated_guests_df['hotel'],y=repeated_guests_df['number_of_repated_guests'])\n",
        "\n",
        "# set labels\n",
        "plt.xlabel('Hotel type')\n",
        "plt.ylabel('count of repeated guests')\n",
        "plt.title(\"Most repeated guests for each hotel\")"
      ],
      "metadata": {
        "id": "K7f4ZffcmKJi"
      },
      "execution_count": null,
      "outputs": []
    },
    {
      "cell_type": "markdown",
      "source": [
        "####**Observation**\n",
        "####Resort Hotel has slightly more repeated guests than the City Hotels. It is almost similar for both hotels."
      ],
      "metadata": {
        "id": "OHoeOW_2hQRA"
      }
    },
    {
      "cell_type": "markdown",
      "source": [
        "**ADR across the different month.**"
      ],
      "metadata": {
        "id": "Q0g9Uvt6hecM"
      }
    },
    {
      "cell_type": "code",
      "source": [
        "#groupby\n",
        "bookings_by_months_df=df.groupby(['arrival_date_month','hotel'])['adr'].mean().reset_index()\n",
        "#create month list\n",
        "months = ['January', 'February', 'March', 'April', 'May', 'June', 'July', 'August', 'September', 'October', 'November', 'December']\n",
        "# it will take the order of the month list in the df along with values\n",
        "bookings_by_months_df['arrival_date_month']=pd.Categorical(bookings_by_months_df['arrival_date_month'],categories=months,ordered=True)\n",
        "#sortting\n",
        "bookings_by_months_df=bookings_by_months_df.sort_values('arrival_date_month')\n",
        "bookings_by_months_df\n"
      ],
      "metadata": {
        "id": "__lNwL00hMXZ"
      },
      "execution_count": null,
      "outputs": []
    },
    {
      "cell_type": "code",
      "source": [
        "# set plot size and plot the line\n",
        "plt.figure(figsize=(20,8))\n",
        "sns.lineplot(x=bookings_by_months_df['arrival_date_month'],y=bookings_by_months_df['adr'],hue=bookings_by_months_df['hotel'])\n",
        "\n",
        "# set lables\n",
        "plt.title('ADR across each month')\n",
        "plt.xlabel('Month')\n",
        "plt.ylabel('ADR')"
      ],
      "metadata": {
        "id": "vntrKgAqhhWK"
      },
      "execution_count": null,
      "outputs": []
    },
    {
      "cell_type": "markdown",
      "source": [
        "#### **Observation**\n",
        "\n",
        "For Resrot hotel is ADR is high in the months June,July,August as compared to City Hotels. May be Customers/People wants to spend their Summer vaccation in Resorts Hotels.\n",
        "\n",
        "The best time for guests to visit Resort or City hotels is January, February, March, April,October, November and December as the avrage daily rate in this month is very low."
      ],
      "metadata": {
        "id": "YUgGF-2WhnYe"
      }
    },
    {
      "cell_type": "markdown",
      "source": [
        "#### **7)Which distribution channel contributed more to adr in order to increase the the income.?**"
      ],
      "metadata": {
        "id": "7Q4vBQeyhqZ1"
      }
    },
    {
      "cell_type": "code",
      "source": [
        "# group by distribution channel and hotel\n",
        "distribution_channel_df=df.groupby(['distribution_channel','hotel'])['adr'].mean().reset_index()\n",
        "\n",
        "# set plot size and plot barchart\n",
        "plt.figure(figsize=(16,8))\n",
        "sns.barplot(x='distribution_channel', y='adr', data=distribution_channel_df, hue='hotel')\n",
        "plt.title('ADR across Distribution channel')"
      ],
      "metadata": {
        "id": "QatkWLkzhj9C"
      },
      "execution_count": null,
      "outputs": []
    },
    {
      "cell_type": "markdown",
      "source": [
        "* Corporate- These are corporate hotel booing companies which makes bookings \n",
        "possible.\n",
        "* GDS-A GDS is a worldwide conduit between travel bookers and suppliers, such as hotels and other accommodation providers. It communicates live product, price and availability data to travel agents and online booking engines, and allows for automated transactions.\n",
        "* Direct- means that bookings are directly made with the respective hotels\n",
        "* TA/TO- means that booings are made through  travel agents or travel operators.\n",
        "* Undefined- Bookings are undefined. may be customers made their bookings on arrival."
      ],
      "metadata": {
        "id": "gyjEPiaALbQZ"
      }
    },
    {
      "cell_type": "markdown",
      "source": [
        "#### **Observation**\n",
        "#### From the plot is clear that \n",
        "#### 'Direct' and 'TA/TO' has almost equally contributed in adr in both type of hotels i.e. 'City Hotel' and 'Resort Hotel'.\n",
        "####  GDS has highly contributed in adr in 'City Hotel' type.\n",
        "#### GDS needs to increase Resort Hotel bookings."
      ],
      "metadata": {
        "id": "hLkf0uK_LsM-"
      }
    },
    {
      "cell_type": "markdown",
      "source": [
        "#### **8) Which distribution channel has the higest cancellation rate?**\n"
      ],
      "metadata": {
        "id": "gYQuQDOyL08T"
      }
    },
    {
      "cell_type": "code",
      "source": [
        "canceled_df=df[df['is_canceled']==1] # 1= canceled\n",
        "\n",
        "#group by distribution channel\n",
        "canceled_df=canceled_df.groupby(['distribution_channel','hotel']).size().reset_index().rename(columns={0:'Counts'})\n",
        "# canceled_df['Percentage']=canceled_df['Counts']*100/df1[df1['is_canceled']==1][0]\n",
        "canceled_df\n",
        "\n",
        "#set plot size and plot barchart \n",
        "plt.figure(figsize=(12,8))\n",
        "sns.barplot(x='distribution_channel',y='Counts',hue=\"hotel\",data=canceled_df)\n",
        "\n",
        "# set labels\n",
        "plt.xlabel('Distribution channel')\n",
        "plt.ylabel('counts')\n",
        "plt.title('Cancellation Rate Vs Distribution channel')"
      ],
      "metadata": {
        "id": "n9VJ0aHBh8-1"
      },
      "execution_count": null,
      "outputs": []
    },
    {
      "cell_type": "markdown",
      "source": [
        "#### **Observation**\n",
        "\n",
        "* In \"TA/TO\", City hotels has the high cancellation rate compared to resort \n",
        "hotels.\n",
        "* In \"direct\" both the hotels has almost same cancellation rate."
      ],
      "metadata": {
        "id": "nlw6cmTFL-N2"
      }
    },
    {
      "cell_type": "markdown",
      "source": [
        "#### **9)Which Market Segment  has the higest cancellation rate?**"
      ],
      "metadata": {
        "id": "wVpPjWjeMDa9"
      }
    },
    {
      "cell_type": "code",
      "source": [
        "market_segment_df=df[df['is_canceled']==1]   # canceled=1\n",
        "market_segment_df\n",
        "market_segment_df=market_segment_df.groupby(['market_segment','hotel']).size().reset_index().rename(columns={0:'counts'})   # group by\n",
        "\n",
        "market_segment_df"
      ],
      "metadata": {
        "id": "qfwMywrIMD0w"
      },
      "execution_count": null,
      "outputs": []
    },
    {
      "cell_type": "code",
      "source": [
        "#set plotsizde and plot barchart\n",
        "plt.figure(figsize=(20,8))\n",
        "sns.barplot(x='market_segment',y='counts',hue=\"hotel\",data= market_segment_df)\n",
        "\n",
        "# set labels\n",
        "plt.xlabel('market_segment')\n",
        "plt.ylabel('Counts')\n",
        "plt.title('Cancellation Rate Vs market_segment')"
      ],
      "metadata": {
        "id": "fdDMV_FLMHGV"
      },
      "execution_count": null,
      "outputs": []
    },
    {
      "cell_type": "markdown",
      "source": [
        "#### **Observation** \n",
        "#### 'Online T/A' has the highest cancellation in both type of cities\n",
        "In order to reduce the booking cancellations hotels need to set the refundable/ no refundable and deposit policies policies"
      ],
      "metadata": {
        "id": "mm_h5iORMLGt"
      }
    },
    {
      "cell_type": "markdown",
      "source": [
        "#### **10) Does the guests alloted with the same room type which was reserved by them?**"
      ],
      "metadata": {
        "id": "qX6IFJrtMOek"
      }
    },
    {
      "cell_type": "code",
      "source": [
        "# Define a function for the reserved room type is same  or not as  assigned room type\n",
        "def same_room_allotment(x):\n",
        "  '''function to check whether the reserved room \n",
        "  type is same  or not as  assigned room type'''\n",
        "\n",
        "  if x['reserved_room_type'] != x['assigned_room_type']:\n",
        "    return 1\n",
        "  else:\n",
        "    return 0  \n"
      ],
      "metadata": {
        "id": "u_R6RUVKMJN8"
      },
      "execution_count": null,
      "outputs": []
    },
    {
      "cell_type": "code",
      "source": [
        "# create new column to df1\n",
        "df['Same_room_alloted_or_not']=df.apply(lambda x: same_room_allotment(x),axis=1)\n",
        "\n",
        "#groupby is canceled\n",
        "grp_by_canceled_df=df.groupby('is_canceled')\n",
        "\n",
        "# create DF and calculate  percentage of same room alloted  or not\n",
        "DF=pd.DataFrame(grp_by_canceled_df['Same_room_alloted_or_not'].sum()*100/grp_by_canceled_df.size()).rename(columns={0:\"percentage\"})\n",
        "DF\n",
        "\n",
        "#set plot size and plot barchart\n",
        "plt.figure(figsize=(12,8))\n",
        "sns.barplot(x=DF.index,y=DF['percentage'])\n",
        "\n",
        "# set labels\n",
        "plt.title('%  of not getting the same room vs Booking cancellation')\n",
        "plt.xlabel('is_canceled')\n",
        "plt.ylabel('% of not getting same room as per reservation')\n",
        "plt.xticks([0,1],['Not canceled','canceled'])"
      ],
      "metadata": {
        "id": "LNSxAnL_MRfC"
      },
      "execution_count": null,
      "outputs": []
    },
    {
      "cell_type": "markdown",
      "source": [
        "#### **Obseravtion**\n",
        "\n",
        "\n",
        "#### Its is clear that there is no much(2.5%) effect on cancellation of the bookings even if the guests are not assigned with rooms which they reserved during booking.\n"
      ],
      "metadata": {
        "id": "eC77tm4jMW8M"
      }
    },
    {
      "cell_type": "markdown",
      "source": [
        "#### **11) ADR across different  market segment**\n"
      ],
      "metadata": {
        "id": "i9WtNPMQMazu"
      }
    },
    {
      "cell_type": "code",
      "source": [
        "Grupby=df.groupby(['market_segment','hotel','is_canceled'])['adr'].mean().reset_index()   # group by\n",
        "\n",
        "# set plot size and plto barchart\n",
        "plt.figure(figsize=(18,6))\n",
        "sns.barplot(x='market_segment',y='adr',hue='hotel',data=Grupby.sort_values(by='adr',ascending=False))\n",
        "plt.title('Adr across market segment')"
      ],
      "metadata": {
        "id": "YT4EuknXMT-Y"
      },
      "execution_count": null,
      "outputs": []
    },
    {
      "cell_type": "markdown",
      "source": [
        "#### **Obseravtion**\n",
        "#### 'Direct' and 'Online TA' are contributing the most in both types of hotels.\n",
        "#### Aviation segment should focus on increasing the bookings of 'City Hotel'"
      ],
      "metadata": {
        "id": "IHjjtvTfMfdd"
      }
    },
    {
      "cell_type": "markdown",
      "source": [
        "#### **12)What is the Optimal stay length in both types of hotels ?**"
      ],
      "metadata": {
        "id": "t2HgRsMtMoAS"
      }
    },
    {
      "cell_type": "code",
      "source": [
        "stay = df.groupby(['total_stay', 'hotel']).agg('count').reset_index()   # group by total stay and hotel\n",
        "stay = stay.iloc[:, :3]                                                   # take 1st 3 columns\n",
        "stay = stay.rename(columns={'is_canceled':'Number of stays'})    # rename the columns\n"
      ],
      "metadata": {
        "id": "9aCoMTvqMtHF"
      },
      "execution_count": null,
      "outputs": []
    },
    {
      "cell_type": "code",
      "source": [
        "# set plot size and plot barchart\n",
        "plt.figure(figsize=(18,9))\n",
        "sns.barplot(x='total_stay',y='Number of stays',hue='hotel',data=stay)\n",
        "\n",
        "#set labels\n",
        "plt.title('Optimal Stay Length in Both hotel types')\n",
        "plt.ylabel('count of stays')\n",
        "plt.xlabel('total_stay(days)')"
      ],
      "metadata": {
        "id": "lhUtCJecMvEO"
      },
      "execution_count": null,
      "outputs": []
    },
    {
      "cell_type": "markdown",
      "source": [
        "#### **Observation:**\n",
        "Optimal stay in both the type hotel is less than 7 days."
      ],
      "metadata": {
        "id": "D-0GhGojMxW2"
      }
    },
    {
      "cell_type": "markdown",
      "source": [
        "#### **13)Relationship between ADR and total stay.**"
      ],
      "metadata": {
        "id": "3Wm0lLIeMiK9"
      }
    },
    {
      "cell_type": "code",
      "source": [
        "# Groupby adr,total,stay,hotel,\n",
        "adr_vs_stay = df.groupby(['total_stay', 'adr','hotel']).agg('count').reset_index()\n",
        "adr_vs_stay = adr_vs_stay.iloc[:, :3]\n",
        "adr_vs_stay = adr_vs_stay.rename(columns={'is_canceled':'Number of stays'})\n",
        "adr_vs_stay=adr_vs_stay[:18000]\n",
        "adr_vs_stay"
      ],
      "metadata": {
        "id": "w8GGU6h-Mdls"
      },
      "execution_count": null,
      "outputs": []
    },
    {
      "cell_type": "code",
      "source": [
        "#plot line chart\n",
        "plt.figure(figsize=(16,8))\n",
        "sns.lineplot(x='total_stay',y='adr',data=adr_vs_stay)\n",
        "plt.title('Relationship between adr and total stay')"
      ],
      "metadata": {
        "id": "ObPKEMuXMzli"
      },
      "execution_count": null,
      "outputs": []
    },
    {
      "cell_type": "markdown",
      "source": [
        "As the total stay increases the  adr also increases."
      ],
      "metadata": {
        "id": "7m0tBusbM3GW"
      }
    },
    {
      "cell_type": "markdown",
      "source": [
        "#### **Correlation of the columns**"
      ],
      "metadata": {
        "id": "y-YWRKKMM6GG"
      }
    },
    {
      "cell_type": "code",
      "source": [
        "plt.figure(figsize=(18,10))\n",
        "sns.heatmap(df.corr(),annot=True)\n",
        "plt.title('Co-relation of the columns')"
      ],
      "metadata": {
        "id": "eO8qLhixM1R_"
      },
      "execution_count": null,
      "outputs": []
    },
    {
      "cell_type": "markdown",
      "source": [
        "####1) is_canceled and same_room_alloted_or_not are negatively corelated. That means  customer is unlikely to cancel his bookings if he don't get the same room as per reserved room. We have visualized it above.\n",
        "####2) lead_time and total_stay is positively corelated.That means more is the stay of cutsomer more will be the lead time.\n",
        "####3)adults,childrens and babies are corelated to each other. That means more the people more will be adr.\n",
        "####4) is_repeated guest and previous bookings not canceled has strong corelation. may be repeated guests are not more likely to cancel their bookings."
      ],
      "metadata": {
        "id": "uc3XbPmYNAed"
      }
    },
    {
      "cell_type": "markdown",
      "source": [
        "#### **Relationship between the  repeated guests and previous bookings not canceled.?**"
      ],
      "metadata": {
        "id": "5_WbkL83NXqV"
      }
    },
    {
      "cell_type": "code",
      "source": [
        "repeated_guests_df=df[df['is_repeated_guest']==1]\n",
        "repeated_guests_df_1=df[df['is_repeated_guest']==0]"
      ],
      "metadata": {
        "id": "Mlf3XURBNGI6"
      },
      "execution_count": null,
      "outputs": []
    },
    {
      "cell_type": "code",
      "source": [
        "plt.figure(figsize=(10,8))\n",
        "sns.barplot(x=df['is_repeated_guest'],y= df['previous_bookings_not_canceled'])\n",
        "plt.xticks([0,1],['Not_repeated_guests','repeated_guests'],fontsize=15)\n",
        "plt.title('Relationship Between repeated guests and previous bookings nor cancelled.')\n",
        "plt.show()"
      ],
      "metadata": {
        "id": "tCjqaOhYNa4j"
      },
      "execution_count": null,
      "outputs": []
    },
    {
      "cell_type": "markdown",
      "source": [
        "#### **Observation**\n",
        "####Not Repeated guests are more likely to cancel their bookings."
      ],
      "metadata": {
        "id": "YbJGrqg8NedM"
      }
    },
    {
      "cell_type": "code",
      "source": [
        "df.drop(df[df['adr'] > 5000].index, inplace = True)"
      ],
      "metadata": {
        "id": "CGGPoamVNcGU"
      },
      "execution_count": null,
      "outputs": []
    },
    {
      "cell_type": "code",
      "source": [
        "plt.figure(figsize=(16,8))\n",
        "sns.scatterplot(x=df['total_stay'],y=df['adr'])\n",
        "plt.title('Relationship between  adr and total stay')"
      ],
      "metadata": {
        "id": "ThgDezeYNkTQ"
      },
      "execution_count": null,
      "outputs": []
    },
    {
      "cell_type": "markdown",
      "source": [
        "####From above scatter we can say that as the stay increases adr is decreasing. Thus for longer stays customer can get good adr."
      ],
      "metadata": {
        "id": "eMT8Tqi_Npf1"
      }
    },
    {
      "cell_type": "markdown",
      "source": [
        "#### **ADR relationship with total number of people**"
      ],
      "metadata": {
        "id": "H1uYKvJgNEB_"
      }
    },
    {
      "cell_type": "code",
      "source": [
        "plt.figure(figsize=(20,8))\n",
        "df2=df[df['total_people'] < 6]\n",
        "\n",
        "sns.boxplot(x=df2['total_people'],y=df2['adr'])\n",
        "\n",
        "# set lables\n",
        "plt.title('ADR v/s Total Number of people')"
      ],
      "metadata": {
        "id": "zEKYmbVIM-RS"
      },
      "execution_count": null,
      "outputs": []
    },
    {
      "cell_type": "markdown",
      "source": [
        "####As the  total number of people increases adr also increases.\n",
        "####Thus adr and total people are directly proportional to each other."
      ],
      "metadata": {
        "id": "STYfMSqBNVb1"
      }
    },
    {
      "cell_type": "markdown",
      "source": [
        "# **Conclusions:**"
      ],
      "metadata": {
        "id": "Yv9BR7SE5r7j"
      }
    },
    {
      "cell_type": "markdown",
      "source": [
        "1.\tCity hotels are the most preferred hotel type by the guests. We can say City hotel is the busiest hotel.\n",
        "2.\t27.5 % bookings were got cancelled out of all the bookings.\n",
        "3.\tOnly 3.9 % people were revisited the hotels. Rest 96.1 % were new guests. Thus retention rate is low.\n",
        "4.\tThe percentage of 0 changes made in the booking was more than 82 %.  Percentage of Single changes made was about 10%.\n",
        "5.\tMost of the customers (91.6%) do not require car parking spaces.\n",
        "6.\t79.1 % bookings were made through TA/TO (travel agents/Tour operators).\n",
        "7.\tBB( Bed & Breakfast) is the most preferred  type of meal by the guests. \n",
        "8.\tMaximum number of guests were from Portugal, i.e. more than 25000 guests.\n",
        "9.\tMost of the bookings for City hotels and Resort hotel were happened in 2016.\n",
        "10.\tAverage ADR for city hotel is high as compared to resort hotels. These City hotels are generating more revenue than the resort hotels.\n",
        "11.\tBooking cancellation rate is high for City hotels which almost 30 %.\n",
        "12.\tAverage lead time for resort hotel is high.\n",
        "13.\tWaiting time period for City hotel is high as compared to resort hotels. That means city hotels are much busier than Resort hotels.\n",
        "14.\tResort hotels have the most repeated guests.\n",
        "15.\tOptimal stay in both the type hotel is less than 7 days. Usually people stay for a week.\n",
        "16.\tAlmost 19 % people did not cancel their bookings even after not getting the same room which they reserved while booking hotel. Only 2.5 % people cancelled the booking.\n"
      ],
      "metadata": {
        "id": "9iFH50ks5-PN"
      }
    }
  ]
}